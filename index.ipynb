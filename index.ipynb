{
 "cells": [
  {
   "cell_type": "markdown",
   "metadata": {},
   "source": [
    "# Regression Lab\n",
    "\n",
    "Now have all the necessary functions to calculate the slope, intercept, best-fit line, prediction and visualizations. In this lab you will put them all together to run a regression experiment and calculate model loss. \n",
    "\n",
    "## SWBAT\n",
    "\n",
    "* Run a complete regression analysis through code only. "
   ]
  },
  {
   "cell_type": "markdown",
   "metadata": {},
   "source": [
    "## Here are all the formulas to put everything in perspective\n",
    "\n",
    "#### Slope\n",
    "<img src=\"m.png\" width = 300>\n",
    "\n",
    "#### Intercept \n",
    "<img src=\"b.png\" width = 200>\n",
    "\n",
    "#### R-squared\n",
    "<img src=\"r2.png\" width = 400>\n",
    "\n",
    "#### Prediction\n",
    "![](pred.jpg)\n",
    "\n",
    "\n",
    "Use the functions created earlier to implement these formulas to run a regression analysis using X and Y as input variables. "
   ]
  },
  {
   "cell_type": "code",
   "execution_count": 17,
   "metadata": {},
   "outputs": [
    {
     "data": {
      "text/plain": [
       "0.9715151515151514"
      ]
     },
     "execution_count": 17,
     "metadata": {},
     "output_type": "execute_result"
    }
   ],
   "source": [
    "def slope(xs, ys):\n",
    "    numerator = (np.mean(xs)*np.mean(ys)) - np.mean(xs*ys)\n",
    "    denominator = (np.mean(xs))**2 - np.mean(xs**2)\n",
    "    return round(numerator/denominator,2)\n",
    "\n",
    "def y_int(xs,ys):\n",
    "    m = slope(xs,ys)\n",
    "    return np.mean(ys) - m*(np.mean(xs))\n",
    "\n",
    "def predict_y(xs, ys):\n",
    "    m = slope(xs,ys)\n",
    "    b = y_int(xs,ys)\n",
    "    return [(m*x)+b for x in xs]\n",
    "\n",
    "def r_2(X,Y):\n",
    "    predict_ys = predict_y(X, Y)\n",
    "    numerator = sum([(a-b)**2 for a, b in list(zip(Y, predict_ys))])\n",
    "    y_mean = np.mean(Y)\n",
    "    denominator = sum([(y-y_mean)**2 for y in Y])\n",
    "    return 1- numerator/denominator\n",
    "# Combine all the functions created so far to run a complete regression experiment. \n",
    "# Produce an output similar to the one shown below. \n",
    "import numpy as np\n",
    "X = np.array([1,2,3,4,5,6,7,8,9,10], dtype=np.float64)\n",
    "Y = np.array([7,7,8,9,9,10,10,11,11,12], dtype=np.float64)\n",
    "\n",
    "slope(X,Y)\n",
    "y_int(X,Y)\n",
    "predict_y(X,Y)\n",
    "r_2(X,Y)"
   ]
  },
  {
   "cell_type": "code",
   "execution_count": 21,
   "metadata": {},
   "outputs": [
    {
     "data": {
      "image/png": "[encoded data removed]",
      "text/plain": [
       "<Figure size 432x288 with 1 Axes>"
      ]
     },
     "metadata": {
      "needs_background": "light"
     },
     "output_type": "display_data"
    }
   ],
   "source": [
    "import numpy as np\n",
    "import matplotlib.pyplot as plt\n",
    "from matplotlib import style\n",
    "# Basic Regression Diagnostics\n",
    "# ----------------------------\n",
    "# Slope: 0.56\n",
    "# Y-Intercept: 6.33\n",
    "# R-Squared: 0.97\n",
    "# ----------------------------\n",
    "# Model: Y = 0.56 * X + 6.33\n",
    "plt.scatter(X,Y)\n",
    "plt.plot(X, predict_y(X,Y), label='regression line')\n",
    "plt.show()"
   ]
  },
  {
   "cell_type": "markdown",
   "metadata": {},
   "source": [
    "## Make Predictions\n",
    "\n",
    "Predict and plot the value of y using regression line above for a new value of x = 4.5."
   ]
  },
  {
   "cell_type": "code",
   "execution_count": 25,
   "metadata": {},
   "outputs": [
    {
     "name": "stdout",
     "output_type": "stream",
     "text": [
      "8.84\n"
     ]
    }
   ],
   "source": [
    "# Make prediction using given value and visualize on the scatter plot\n",
    "def slope(xs, ys):\n",
    "    numerator = (np.mean(xs)*np.mean(ys)) - np.mean(xs*ys)\n",
    "    denominator = (np.mean(xs))**2 - np.mean(xs**2)\n",
    "    return round(numerator/denominator,2)\n",
    "\n",
    "def y_int(xs,ys):\n",
    "    m = slope(xs,ys)\n",
    "    return np.mean(ys) - m*(np.mean(xs))\n",
    "\n",
    "def predict_y(xs, ys):\n",
    "    m = slope(xs,ys)\n",
    "    b = y_int(xs,ys)\n",
    "    return [(m*x)+b for x in xs]\n",
    "\n",
    "m = slope(X,Y)\n",
    "b = y_int(X,Y)\n",
    "\n",
    "print((m*4.5) + b)"
   ]
  },
  {
   "cell_type": "code",
   "execution_count": 28,
   "metadata": {},
   "outputs": [
    {
     "data": {
      "text/plain": [
       "[<matplotlib.lines.Line2D at 0x7f18e60524a8>]"
      ]
     },
     "execution_count": 28,
     "metadata": {},
     "output_type": "execute_result"
    },
    {
     "data": {
      "image/png": "[encoded data removed]",
      "text/plain": [
       "<Figure size 432x288 with 1 Axes>"
      ]
     },
     "metadata": {
      "needs_background": "light"
     },
     "output_type": "display_data"
    }
   ],
   "source": [
    "plt.scatter(4.5,(m*4.5) + b, color='black')\n",
    "plt.scatter(X,Y, color = 'pink')\n",
    "plt.plot(X, predict_y(X,Y), label='regression line')"
   ]
  },
  {
   "cell_type": "markdown",
   "metadata": {},
   "source": [
    "## Level up - Optional \n",
    "Load the \"heightWeight.csv\" dataset. Use the height as an independant and weight as a dependant variable and draw a regression line to data using your code above. Calculate your R-square for the model and try to predict new values of Y. "
   ]
  },
  {
   "cell_type": "markdown",
   "metadata": {},
   "source": [
    "## Summary\n",
    "\n",
    "In this lab, we ran a complete simple regression analysis experiment using functions created so far. Next We shall see how we can use python's built in modules to perform such analyses with a much higher level of sophistication. "
   ]
  },
  {
   "cell_type": "code",
   "execution_count": null,
   "metadata": {},
   "outputs": [],
   "source": []
  }
 ],
 "metadata": {
  "kernelspec": {
   "display_name": "Python 3",
   "language": "python",
   "name": "python3"
  },
  "language_info": {
   "codemirror_mode": {
    "name": "ipython",
    "version": 3
   },
   "file_extension": ".py",
   "mimetype": "text/x-python",
   "name": "python",
   "nbconvert_exporter": "python",
   "pygments_lexer": "ipython3",
   "version": "3.6.6"
  }
 },
 "nbformat": 4,
 "nbformat_minor": 2
}
